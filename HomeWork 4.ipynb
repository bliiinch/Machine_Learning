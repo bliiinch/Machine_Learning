{
 "cells": [
  {
   "cell_type": "markdown",
   "metadata": {},
   "source": [
    "Решение задачи кластеризации с использованием трех методов:\n",
    "  1. KMeans\n",
    "  2. DBSCAN\n",
    "  3. Spectral Clustering"
   ]
  },
  {
   "cell_type": "markdown",
   "metadata": {},
   "source": [
    "Импорт библиотек и загрузка исходных данных"
   ]
  },
  {
   "cell_type": "code",
   "execution_count": 2,
   "metadata": {},
   "outputs": [
    {
     "data": {
      "text/html": [
       "<div>\n",
       "<style scoped>\n",
       "    .dataframe tbody tr th:only-of-type {\n",
       "        vertical-align: middle;\n",
       "    }\n",
       "\n",
       "    .dataframe tbody tr th {\n",
       "        vertical-align: top;\n",
       "    }\n",
       "\n",
       "    .dataframe thead th {\n",
       "        text-align: right;\n",
       "    }\n",
       "</style>\n",
       "<table border=\"1\" class=\"dataframe\">\n",
       "  <thead>\n",
       "    <tr style=\"text-align: right;\">\n",
       "      <th></th>\n",
       "      <th>age</th>\n",
       "      <th>workclass</th>\n",
       "      <th>fnlwgt</th>\n",
       "      <th>education</th>\n",
       "      <th>educational-num</th>\n",
       "      <th>marital-status</th>\n",
       "      <th>occupation</th>\n",
       "      <th>relationship</th>\n",
       "      <th>race</th>\n",
       "      <th>gender</th>\n",
       "      <th>capital-gain</th>\n",
       "      <th>capital-loss</th>\n",
       "      <th>hours-per-week</th>\n",
       "      <th>native-country</th>\n",
       "      <th>income</th>\n",
       "    </tr>\n",
       "  </thead>\n",
       "  <tbody>\n",
       "    <tr>\n",
       "      <th>0</th>\n",
       "      <td>25</td>\n",
       "      <td>Private</td>\n",
       "      <td>226802</td>\n",
       "      <td>11th</td>\n",
       "      <td>7</td>\n",
       "      <td>Never-married</td>\n",
       "      <td>Machine-op-inspct</td>\n",
       "      <td>Own-child</td>\n",
       "      <td>Black</td>\n",
       "      <td>Male</td>\n",
       "      <td>0</td>\n",
       "      <td>0</td>\n",
       "      <td>40</td>\n",
       "      <td>United-States</td>\n",
       "      <td>&lt;=50K</td>\n",
       "    </tr>\n",
       "    <tr>\n",
       "      <th>1</th>\n",
       "      <td>38</td>\n",
       "      <td>Private</td>\n",
       "      <td>89814</td>\n",
       "      <td>HS-grad</td>\n",
       "      <td>9</td>\n",
       "      <td>Married-civ-spouse</td>\n",
       "      <td>Farming-fishing</td>\n",
       "      <td>Husband</td>\n",
       "      <td>White</td>\n",
       "      <td>Male</td>\n",
       "      <td>0</td>\n",
       "      <td>0</td>\n",
       "      <td>50</td>\n",
       "      <td>United-States</td>\n",
       "      <td>&lt;=50K</td>\n",
       "    </tr>\n",
       "    <tr>\n",
       "      <th>2</th>\n",
       "      <td>28</td>\n",
       "      <td>Local-gov</td>\n",
       "      <td>336951</td>\n",
       "      <td>Assoc-acdm</td>\n",
       "      <td>12</td>\n",
       "      <td>Married-civ-spouse</td>\n",
       "      <td>Protective-serv</td>\n",
       "      <td>Husband</td>\n",
       "      <td>White</td>\n",
       "      <td>Male</td>\n",
       "      <td>0</td>\n",
       "      <td>0</td>\n",
       "      <td>40</td>\n",
       "      <td>United-States</td>\n",
       "      <td>&gt;50K</td>\n",
       "    </tr>\n",
       "    <tr>\n",
       "      <th>3</th>\n",
       "      <td>44</td>\n",
       "      <td>Private</td>\n",
       "      <td>160323</td>\n",
       "      <td>Some-college</td>\n",
       "      <td>10</td>\n",
       "      <td>Married-civ-spouse</td>\n",
       "      <td>Machine-op-inspct</td>\n",
       "      <td>Husband</td>\n",
       "      <td>Black</td>\n",
       "      <td>Male</td>\n",
       "      <td>7688</td>\n",
       "      <td>0</td>\n",
       "      <td>40</td>\n",
       "      <td>United-States</td>\n",
       "      <td>&gt;50K</td>\n",
       "    </tr>\n",
       "    <tr>\n",
       "      <th>4</th>\n",
       "      <td>18</td>\n",
       "      <td>?</td>\n",
       "      <td>103497</td>\n",
       "      <td>Some-college</td>\n",
       "      <td>10</td>\n",
       "      <td>Never-married</td>\n",
       "      <td>?</td>\n",
       "      <td>Own-child</td>\n",
       "      <td>White</td>\n",
       "      <td>Female</td>\n",
       "      <td>0</td>\n",
       "      <td>0</td>\n",
       "      <td>30</td>\n",
       "      <td>United-States</td>\n",
       "      <td>&lt;=50K</td>\n",
       "    </tr>\n",
       "  </tbody>\n",
       "</table>\n",
       "</div>"
      ],
      "text/plain": [
       "   age  workclass  fnlwgt     education  educational-num      marital-status  \\\n",
       "0   25    Private  226802          11th                7       Never-married   \n",
       "1   38    Private   89814       HS-grad                9  Married-civ-spouse   \n",
       "2   28  Local-gov  336951    Assoc-acdm               12  Married-civ-spouse   \n",
       "3   44    Private  160323  Some-college               10  Married-civ-spouse   \n",
       "4   18          ?  103497  Some-college               10       Never-married   \n",
       "\n",
       "          occupation relationship   race  gender  capital-gain  capital-loss  \\\n",
       "0  Machine-op-inspct    Own-child  Black    Male             0             0   \n",
       "1    Farming-fishing      Husband  White    Male             0             0   \n",
       "2    Protective-serv      Husband  White    Male             0             0   \n",
       "3  Machine-op-inspct      Husband  Black    Male          7688             0   \n",
       "4                  ?    Own-child  White  Female             0             0   \n",
       "\n",
       "   hours-per-week native-country income  \n",
       "0              40  United-States  <=50K  \n",
       "1              50  United-States  <=50K  \n",
       "2              40  United-States   >50K  \n",
       "3              40  United-States   >50K  \n",
       "4              30  United-States  <=50K  "
      ]
     },
     "execution_count": 2,
     "metadata": {},
     "output_type": "execute_result"
    }
   ],
   "source": [
    "import pandas as pd\n",
    "from sklearn.cluster import KMeans, DBSCAN\n",
    "from sklearn.mixture import GaussianMixture\n",
    "from sklearn.metrics import adjusted_rand_score\n",
    "from sklearn.preprocessing import LabelEncoder, StandardScaler\n",
    "\n",
    "data = pd.read_csv('adult.csv')\n",
    "data.head()"
   ]
  },
  {
   "cell_type": "markdown",
   "metadata": {},
   "source": [
    "Подготовка данных"
   ]
  },
  {
   "cell_type": "code",
   "execution_count": 3,
   "metadata": {},
   "outputs": [],
   "source": [
    "processed_data = data.copy()\n",
    "\n",
    "categorical_encoders = {}\n",
    "for feature in processed_data.select_dtypes(include='object').columns:\n",
    "    if feature != 'income':\n",
    "        encoder = LabelEncoder()\n",
    "        processed_data[feature] = encoder.fit_transform(processed_data[feature])\n",
    "        categorical_encoders[feature] = encoder\n",
    "\n",
    "scaler = StandardScaler()\n",
    "numerical_features = processed_data.select_dtypes(include=['int64', 'float64']).columns\n",
    "processed_data[numerical_features] = scaler.fit_transform(processed_data[numerical_features])"
   ]
  },
  {
   "cell_type": "markdown",
   "metadata": {},
   "source": [
    "Реализация методов кластеризации"
   ]
  },
  {
   "cell_type": "code",
   "execution_count": 4,
   "metadata": {},
   "outputs": [
    {
     "name": "stdout",
     "output_type": "stream",
     "text": [
      "KMeans: Число кластеров = 5\n",
      "Adjusted Rand Index для KMeans: 0.021722873034472883\n",
      "DBSCAN: Число кластеров = 7\n",
      "Adjusted Rand Index для DBSCAN: -0.01741673808244024\n",
      "Gaussian Mixture: Число кластеров = 5\n",
      "Adjusted Rand Index для Gaussian Mixture: 0.1507825200893089\n"
     ]
    }
   ],
   "source": [
    "kmeans = KMeans(n_clusters=5, random_state=45)\n",
    "kmeans_labels = kmeans.fit_predict(processed_data.drop(columns=['income']))\n",
    "kmeans_num_clusters = len(set(kmeans_labels))\n",
    "print(f\"KMeans: Число кластеров = {kmeans_num_clusters}\")\n",
    "ari_kmeans = adjusted_rand_score(LabelEncoder().fit_transform(data['income']), kmeans_labels)\n",
    "print(f'Adjusted Rand Index для KMeans: {ari_kmeans}')\n",
    "\n",
    "dbscan = DBSCAN(eps=1.5, min_samples=55)\n",
    "dbscan_labels = dbscan.fit_predict(processed_data.drop(columns=['income']))\n",
    "dbscan_num_clusters = len(set(dbscan_labels)) - (1 if -1 in dbscan_labels else 0)\n",
    "print(f\"DBSCAN: Число кластеров = {dbscan_num_clusters}\")\n",
    "ari_dbscan = adjusted_rand_score(LabelEncoder().fit_transform(data['income']), dbscan_labels)\n",
    "print(f'Adjusted Rand Index для DBSCAN: {ari_dbscan}')\n",
    "\n",
    "gmm = GaussianMixture(n_components=5, random_state=45)\n",
    "gmm_labels = gmm.fit_predict(processed_data.drop(columns=['income']))\n",
    "gmm_num_clusters = len(set(gmm_labels))\n",
    "print(f\"Gaussian Mixture: Число кластеров = {gmm_num_clusters}\")\n",
    "ari_gmm = adjusted_rand_score(LabelEncoder().fit_transform(data['income']), gmm_labels)\n",
    "print(f'Adjusted Rand Index для Gaussian Mixture: {ari_gmm}')"
   ]
  },
  {
   "cell_type": "markdown",
   "metadata": {},
   "source": []
  },
  {
   "cell_type": "markdown",
   "metadata": {},
   "source": [
    "Выводы"
   ]
  },
  {
   "cell_type": "markdown",
   "metadata": {},
   "source": [
    "* KMeans: Метод кластеризации с 5 кластерами показал значение Adjusted Rand Index (0.0217), что указывает на слабую связь между результатами кластеризации и истинными метками. Это свидетельствует о том, что KMeans не смог точно разделить данные на смысловые группы. Возможно, результат можно улучшить, если пересмотреть выбор признаков или применить другие методы предобработки данных, так как текущий результат не дает четкой структуры.\n",
    "\n",
    "* DBSCAN:  В случае с DBSCAN, который обнаружил 7 кластеров, значение Adjusted Rand Index составило (-0.0174), что также указывает на слабую согласованность кластеров с истинными метками. Этот результат говорит о том, что DBSCAN не смог достоверно выделить смысловые группы в данных.\n",
    "\n",
    "* Gaussian Mixture: С 5 кластерами метод Gaussian Mixture показал Adjusted Rand Index (0.1508), что является лучшим результатом среди всех трех методов, но всё еще довольно низким. Этот показатель говорит о том, что хотя метод смог выделить некоторые структуры в данных, результаты всё еще далеки от идеала.\n",
    "\n",
    "Все три метода кластеризации (KMeans, DBSCAN и Gaussian Mixture) продемонстрировали относительно слабую согласованность с истинными метками. Это может свидетельствовать о том, что данные не обладают четкой внутренней структурой, либо выбранные методы и параметры не оптимальны для данной задачи. Стоит продолжить эксперименты с настройками алгоритмов, улучшить представление данных и, возможно, попробовать другие методы кластеризации, чтобы добиться более точных результатов."
   ]
  }
 ],
 "metadata": {
  "kernelspec": {
   "display_name": "Python 3",
   "language": "python",
   "name": "python3"
  },
  "language_info": {
   "codemirror_mode": {
    "name": "ipython",
    "version": 3
   },
   "file_extension": ".py",
   "mimetype": "text/x-python",
   "name": "python",
   "nbconvert_exporter": "python",
   "pygments_lexer": "ipython3",
   "version": "3.13.0"
  }
 },
 "nbformat": 4,
 "nbformat_minor": 2
}
